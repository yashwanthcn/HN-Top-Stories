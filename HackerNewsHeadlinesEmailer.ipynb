{
 "cells": [
  {
   "cell_type": "code",
   "execution_count": 1,
   "metadata": {},
   "outputs": [],
   "source": [
    "import requests"
   ]
  },
  {
   "cell_type": "code",
   "execution_count": 2,
   "metadata": {},
   "outputs": [],
   "source": [
    "from bs4 import BeautifulSoup"
   ]
  },
  {
   "cell_type": "code",
   "execution_count": 3,
   "metadata": {},
   "outputs": [],
   "source": [
    "import smtplib"
   ]
  },
  {
   "cell_type": "code",
   "execution_count": 4,
   "metadata": {},
   "outputs": [],
   "source": [
    "from email.mime.multipart import MIMEMultipart\n",
    "from email.mime.text import MIMEText"
   ]
  },
  {
   "cell_type": "code",
   "execution_count": 5,
   "metadata": {},
   "outputs": [],
   "source": [
    "import datetime"
   ]
  },
  {
   "cell_type": "code",
   "execution_count": 6,
   "metadata": {},
   "outputs": [],
   "source": [
    "now = datetime.datetime.now()"
   ]
  },
  {
   "cell_type": "code",
   "execution_count": 7,
   "metadata": {},
   "outputs": [],
   "source": [
    "#email content placeholder\n",
    "\n",
    "content = ''"
   ]
  },
  {
   "cell_type": "code",
   "execution_count": 8,
   "metadata": {},
   "outputs": [],
   "source": [
    "def extract_news(url):\n",
    "    print('Extracting Hacker News Stories...')\n",
    "    cnt = ''\n",
    "    cnt += ('<b> HN TOp Stories:</b>\\n'+'<br>'+'-'*50+'<br>')\n",
    "    response = requests.get(url)\n",
    "    content = response.content\n",
    "    soup = BeautifulSoup(content, 'html.parser')\n",
    "    for i, tag in enumerate(soup.find_all('td', attrs={'class':'title', 'valign':''})):\n",
    "        cnt += ((str(i+1)+' :: '+tag.text+'\\n' + '<br>') if tag.text != 'More' else '')\n",
    "    return (cnt)"
   ]
  },
  {
   "cell_type": "code",
   "execution_count": 9,
   "metadata": {},
   "outputs": [
    {
     "name": "stdout",
     "output_type": "stream",
     "text": [
      "Extracting Hacker News Stories...\n"
     ]
    }
   ],
   "source": [
    "cnt = extract_news('https://news.ycombinator.com/')\n",
    "content += cnt\n",
    "content += ('<br>-----------<br>')\n",
    "content += ('<br> <br>End of Message')"
   ]
  },
  {
   "cell_type": "code",
   "execution_count": 10,
   "metadata": {},
   "outputs": [
    {
     "name": "stdout",
     "output_type": "stream",
     "text": [
      "Composing Email...\n"
     ]
    }
   ],
   "source": [
    "print('Composing Email...')"
   ]
  },
  {
   "cell_type": "code",
   "execution_count": 11,
   "metadata": {},
   "outputs": [],
   "source": [
    "#update email address\n",
    "\n",
    "SERVER = 'smtp.gmail.com'\n",
    "PORT = 587\n",
    "FROM = ' '\n",
    "TO = ' '\n",
    "PASS = '*********'"
   ]
  },
  {
   "cell_type": "code",
   "execution_count": 12,
   "metadata": {},
   "outputs": [],
   "source": [
    "#message body\n",
    "\n",
    "msg = MIMEMultipart()"
   ]
  },
  {
   "cell_type": "code",
   "execution_count": 13,
   "metadata": {},
   "outputs": [],
   "source": [
    "msg['Subject'] = 'Top News Stories HN [Automated Email]' + ' ' + str(now.day) + '-' + str(now.month) + '-' + str(now.year)\n",
    "msg['From'] = FROM\n",
    "msg['To'] = TO"
   ]
  },
  {
   "cell_type": "code",
   "execution_count": 14,
   "metadata": {},
   "outputs": [],
   "source": [
    "msg.attach(MIMEText(content, 'html'))"
   ]
  },
  {
   "cell_type": "code",
   "execution_count": 15,
   "metadata": {},
   "outputs": [
    {
     "name": "stdout",
     "output_type": "stream",
     "text": [
      "Initiating Server...\n"
     ]
    }
   ],
   "source": [
    "#Initiating Server\n",
    "\n",
    "print('Initiating Server...')"
   ]
  },
  {
   "cell_type": "code",
   "execution_count": 16,
   "metadata": {},
   "outputs": [
    {
     "name": "stderr",
     "output_type": "stream",
     "text": [
      "send: 'ehlo [192.168.211.215]\\r\\n'\n",
      "reply: b'250-smtp.gmail.com at your service, [2405:204:521b:4deb:7c82:8748:f322:fc82]\\r\\n'\n",
      "reply: b'250-SIZE 35882577\\r\\n'\n",
      "reply: b'250-8BITMIME\\r\\n'\n",
      "reply: b'250-STARTTLS\\r\\n'\n",
      "reply: b'250-ENHANCEDSTATUSCODES\\r\\n'\n",
      "reply: b'250-PIPELINING\\r\\n'\n",
      "reply: b'250-CHUNKING\\r\\n'\n",
      "reply: b'250 SMTPUTF8\\r\\n'\n",
      "reply: retcode (250); Msg: b'smtp.gmail.com at your service, [2405:204:521b:4deb:7c82:8748:f322:fc82]\\nSIZE 35882577\\n8BITMIME\\nSTARTTLS\\nENHANCEDSTATUSCODES\\nPIPELINING\\nCHUNKING\\nSMTPUTF8'\n",
      "send: 'STARTTLS\\r\\n'\n",
      "reply: b'220 2.0.0 Ready to start TLS\\r\\n'\n",
      "reply: retcode (220); Msg: b'2.0.0 Ready to start TLS'\n",
      "send: 'ehlo [192.168.211.215]\\r\\n'\n",
      "reply: b'250-smtp.gmail.com at your service, [2405:204:521b:4deb:7c82:8748:f322:fc82]\\r\\n'\n",
      "reply: b'250-SIZE 35882577\\r\\n'\n",
      "reply: b'250-8BITMIME\\r\\n'\n",
      "reply: b'250-AUTH LOGIN PLAIN XOAUTH2 PLAIN-CLIENTTOKEN OAUTHBEARER XOAUTH\\r\\n'\n",
      "reply: b'250-ENHANCEDSTATUSCODES\\r\\n'\n",
      "reply: b'250-PIPELINING\\r\\n'\n",
      "reply: b'250-CHUNKING\\r\\n'\n",
      "reply: b'250 SMTPUTF8\\r\\n'\n",
      "reply: retcode (250); Msg: b'smtp.gmail.com at your service, [2405:204:521b:4deb:7c82:8748:f322:fc82]\\nSIZE 35882577\\n8BITMIME\\nAUTH LOGIN PLAIN XOAUTH2 PLAIN-CLIENTTOKEN OAUTHBEARER XOAUTH\\nENHANCEDSTATUSCODES\\nPIPELINING\\nCHUNKING\\nSMTPUTF8'\n",
      "send: 'AUTH PLAIN AHlhc2h3YW50aGNuMTk5NEBnbWFpbC5jb20AQ255QDE5OTQ=\\r\\n'\n",
      "reply: b'235 2.7.0 Accepted\\r\\n'\n",
      "reply: retcode (235); Msg: b'2.7.0 Accepted'\n",
      "send: 'mail FROM:<yashwanthcn1994@gmail.com> size=3489\\r\\n'\n",
      "reply: b'250 2.1.0 OK m13sm5743762pjz.48 - gsmtp\\r\\n'\n",
      "reply: retcode (250); Msg: b'2.1.0 OK m13sm5743762pjz.48 - gsmtp'\n",
      "send: 'rcpt TO:<yashwanthcn1994@gmail.com>\\r\\n'\n",
      "reply: b'250 2.1.5 OK m13sm5743762pjz.48 - gsmtp\\r\\n'\n",
      "reply: retcode (250); Msg: b'2.1.5 OK m13sm5743762pjz.48 - gsmtp'\n",
      "send: 'data\\r\\n'\n",
      "reply: b'354  Go ahead m13sm5743762pjz.48 - gsmtp\\r\\n'\n",
      "reply: retcode (354); Msg: b'Go ahead m13sm5743762pjz.48 - gsmtp'\n",
      "data: (354, b'Go ahead m13sm5743762pjz.48 - gsmtp')\n",
      "send: b'Content-Type: multipart/mixed; boundary=\"===============0816575147620385572==\"\\r\\nMIME-Version: 1.0\\r\\nSubject: Top News Stories HN [Automated Email] 27-9-2021\\r\\nFrom: yashwanthcn1994@gmail.com\\r\\nTo: yashwanthcn1994@gmail.com\\r\\n\\r\\n--===============0816575147620385572==\\r\\nContent-Type: text/html; charset=\"utf-8\"\\r\\nMIME-Version: 1.0\\r\\nContent-Transfer-Encoding: base64\\r\\n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\\r\\nLTxicj48YnI+IDxicj5FbmQgb2YgTWVzc2FnZQ==\\r\\n\\r\\n--===============0816575147620385572==--\\r\\n.\\r\\n'\n",
      "reply: b'250 2.0.0 OK  1632744109 m13sm5743762pjz.48 - gsmtp\\r\\n'\n",
      "reply: retcode (250); Msg: b'2.0.0 OK  1632744109 m13sm5743762pjz.48 - gsmtp'\n",
      "data: (250, b'2.0.0 OK  1632744109 m13sm5743762pjz.48 - gsmtp')\n"
     ]
    },
    {
     "data": {
      "text/plain": [
       "{}"
      ]
     },
     "execution_count": 16,
     "metadata": {},
     "output_type": "execute_result"
    }
   ],
   "source": [
    "server = smtplib.SMTP(SERVER, PORT)\n",
    "server.set_debuglevel(1)\n",
    "server.ehlo()\n",
    "server.starttls()\n",
    "server.login(FROM, PASS)\n",
    "server.sendmail(FROM, TO, msg.as_string())"
   ]
  },
  {
   "cell_type": "code",
   "execution_count": 17,
   "metadata": {},
   "outputs": [
    {
     "name": "stdout",
     "output_type": "stream",
     "text": [
      "Email Sent...\n"
     ]
    }
   ],
   "source": [
    "print('Email Sent...')"
   ]
  },
  {
   "cell_type": "code",
   "execution_count": 18,
   "metadata": {},
   "outputs": [
    {
     "name": "stderr",
     "output_type": "stream",
     "text": [
      "send: 'quit\\r\\n'\n",
      "reply: b'221 2.0.0 closing connection m13sm5743762pjz.48 - gsmtp\\r\\n'\n",
      "reply: retcode (221); Msg: b'2.0.0 closing connection m13sm5743762pjz.48 - gsmtp'\n"
     ]
    },
    {
     "data": {
      "text/plain": [
       "(221, b'2.0.0 closing connection m13sm5743762pjz.48 - gsmtp')"
      ]
     },
     "execution_count": 18,
     "metadata": {},
     "output_type": "execute_result"
    }
   ],
   "source": [
    "server.quit()"
   ]
  },
  {
   "cell_type": "code",
   "execution_count": null,
   "metadata": {},
   "outputs": [],
   "source": []
  },
  {
   "cell_type": "code",
   "execution_count": null,
   "metadata": {},
   "outputs": [],
   "source": []
  },
  {
   "cell_type": "code",
   "execution_count": null,
   "metadata": {},
   "outputs": [],
   "source": []
  },
  {
   "cell_type": "code",
   "execution_count": null,
   "metadata": {},
   "outputs": [],
   "source": []
  },
  {
   "cell_type": "code",
   "execution_count": null,
   "metadata": {},
   "outputs": [],
   "source": []
  },
  {
   "cell_type": "code",
   "execution_count": null,
   "metadata": {},
   "outputs": [],
   "source": []
  },
  {
   "cell_type": "code",
   "execution_count": null,
   "metadata": {},
   "outputs": [],
   "source": []
  },
  {
   "cell_type": "code",
   "execution_count": null,
   "metadata": {},
   "outputs": [],
   "source": []
  },
  {
   "cell_type": "code",
   "execution_count": null,
   "metadata": {},
   "outputs": [],
   "source": []
  },
  {
   "cell_type": "code",
   "execution_count": null,
   "metadata": {},
   "outputs": [],
   "source": []
  },
  {
   "cell_type": "code",
   "execution_count": null,
   "metadata": {},
   "outputs": [],
   "source": []
  },
  {
   "cell_type": "code",
   "execution_count": null,
   "metadata": {},
   "outputs": [],
   "source": []
  }
 ],
 "metadata": {
  "kernelspec": {
   "display_name": "Python 3",
   "language": "python",
   "name": "python3"
  },
  "language_info": {
   "codemirror_mode": {
    "name": "ipython",
    "version": 3
   },
   "file_extension": ".py",
   "mimetype": "text/x-python",
   "name": "python",
   "nbconvert_exporter": "python",
   "pygments_lexer": "ipython3",
   "version": "3.7.7"
  }
 },
 "nbformat": 4,
 "nbformat_minor": 4
}
